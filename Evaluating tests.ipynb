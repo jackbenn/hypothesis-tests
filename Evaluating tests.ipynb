{
 "cells": [
  {
   "cell_type": "markdown",
   "id": "powerful-terrorist",
   "metadata": {},
   "source": [
    "## Evaluating tests\n",
    "\n",
    "This is a notebook discussing how one might evaluate a null-hypothesis significance test, to determine the best test for a given situations.\n",
    "\n",
    "In particular, there are a few important issues.\n",
    "\n",
    "First, you need the right test, that measures what you want to measure. That's pretty clear.\n",
    "\n",
    "Next, many tests rely on certain assumptions about your data. While on the high level that's a yes-or-no question, in practice your data might not quite fit the assumptions, the distribution might not be quite normal, the  distributions might change over time. So it's also a question of how robust the test is to violations of the assumptions? In particular, what is the effect of the on the distribution of the p-values?\n",
    "\n",
    "It's not clear to me how to measure this yet.\n",
    "\n",
    "Finally, how powerful is the test? what's the power of the test, given an effect size and a false-positive rate? The is probably best measured through the area under what I call an alpha-beta curve, below."
   ]
  },
  {
   "cell_type": "code",
   "execution_count": 1,
   "id": "optional-centre",
   "metadata": {},
   "outputs": [],
   "source": [
    "import sys\n",
    "sys.path.append('/Users/jackbennetto/git/graphing_tools/')"
   ]
  },
  {
   "cell_type": "code",
   "execution_count": 6,
   "id": "viral-heath",
   "metadata": {},
   "outputs": [],
   "source": [
    "from scipy import stats\n",
    "import pandas as pd\n",
    "import numpy as np\n",
    "import matplotlib.pyplot as plt\n",
    "import pvalues\n",
    "import sys\n",
    "sys.path.append('/Users/bennetto/git')\n",
    "from graphing_tools import tools\n",
    "%matplotlib inline"
   ]
  },
  {
   "cell_type": "markdown",
   "id": "fitted-photographer",
   "metadata": {},
   "source": [
    "Some code to examine p-values."
   ]
  },
  {
   "cell_type": "code",
   "execution_count": 8,
   "id": "standard-blowing",
   "metadata": {},
   "outputs": [],
   "source": [
    "data = stats.uniform(0, 1).rvs(100)"
   ]
  },
  {
   "cell_type": "code",
   "execution_count": 9,
   "id": "arctic-sunset",
   "metadata": {},
   "outputs": [
    {
     "data": {
      "image/png": "[encoded data removed]",
      "text/plain": [
       "<Figure size 792x360 with 2 Axes>"
      ]
     },
     "metadata": {
      "needs_background": "light"
     },
     "output_type": "display_data"
    }
   ],
   "source": [
    "fig, ax = plt.subplots(1, 2, figsize=(11, 5))\n",
    "pvalues.plot_pvalues(ax[0],\n",
    "                     data)\n",
    "pvalues.plot_quantiles(ax[1],\n",
    "                       data)"
   ]
  },
  {
   "cell_type": "code",
   "execution_count": null,
   "id": "attended-marine",
   "metadata": {},
   "outputs": [],
   "source": []
  },
  {
   "cell_type": "markdown",
   "id": "5a5e881b",
   "metadata": {},
   "source": [
    "### alpha-beta curve\n",
    "\n",
    "An alpha-beta curve (my term) is a way of measuring the overall power of a test, given a particular alternative hypothesis.  Rather than measuring the power at a single threshold or value of alpha, it plots alpha against beta.\n",
    "\n",
    "This is analogous to an ROC curve. We can investigate it in the same way we'd look at the probabilistic interpretation of an ROC curve, with samples from one class ($H_0$) along the horizontal axis, and from the other ($H_A$) along the vertical, both ordered by increasing p-values.\n",
    "\n",
    "Note that significant constraint of this approach is we need to consider an specific alternative hypothesis. Later we'll consider some parameterized $H_A$ and plot that parameter against the AUC.\n",
    "\n",
    "To start, we'll consider a simple problem: determining if a set of points fit the normal distribution. We'll consider a few different options, using a few different alternative hypotheses."
   ]
  },
  {
   "cell_type": "code",
   "execution_count": null,
   "id": "6bd6874a",
   "metadata": {},
   "outputs": [],
   "source": []
  },
  {
   "cell_type": "markdown",
   "id": "literary-background",
   "metadata": {},
   "source": [
    "It takes as input two random variables and a test statistic that operates on two samples. It is parameterized by the critical value. For each critical value, it plots the alpha (false-positive rate) for rejecting that two samples taken from the first are from the same distribution, against the beta (false negative rate) that samples taken form the each fail to reject the null."
   ]
  },
  {
   "cell_type": "code",
   "execution_count": null,
   "id": "9048bffe",
   "metadata": {},
   "outputs": [],
   "source": []
  },
  {
   "cell_type": "code",
   "execution_count": 46,
   "id": "underlying-contribution",
   "metadata": {},
   "outputs": [],
   "source": [
    "def alpha_beta_plot(ax,\n",
    "                    dist1, dist2,\n",
    "                    sample_size,\n",
    "                    statistic,\n",
    "                    n_samples=10,\n",
    "                    increasing=True,\n",
    "                    draw_lines=False):\n",
    "    # get samples from null and alternative distributions\n",
    "    data1 = dist1.rvs((sample_size, n_samples))\n",
    "    data2 = dist2.rvs((sample_size, n_samples))\n",
    "    \n",
    "    # calculate statistic between pairs within \n",
    "    stats_11 = np.zeros((n_samples, n_samples))\n",
    "    stats_12 = np.zeros((n_samples, n_samples))\n",
    "    for i in range(n_samples):\n",
    "        for j in range(n_samples):\n",
    "            stats_11[i, j] = statistic(data1[:, i], data1[:, j])[0]\n",
    "            stats_12[i, j] = statistic(data1[:, i], data2[:, j])[0]\n",
    "    stats_11 = stats_11[np.tril_indices(n_samples, -1)]\n",
    "    stats_12 = stats_12.flatten()\n",
    "    print(stats_11.shape, stats_12.shape)\n",
    "    merged = np.concatenate([stats_11, stats_12])\n",
    "    merged.sort()\n",
    "    \n",
    "    alphas = np.zeros_like(merged)\n",
    "    betas = np.zeros_like(merged)\n",
    "\n",
    "    for i, crit in enumerate(merged):\n",
    "        alphas[i] = ((crit > stats_11).sum()/len(stats_11))\n",
    "        betas[i] = ((crit < stats_12).sum()/len(stats_12))\n",
    "\n",
    "    #tools.multihist([stats_11, stats_12], ax=ax, bins=50)\n",
    "    #ax.hist(stats_11, alpha=0.3, bins=30, label='stats_11', density=True)\n",
    "    #ax.hist(stats_12, alpha=0.3, bins=30, label='stats_12', density=True)\n",
    "    #ax.legend()\n",
    "    #return\n",
    "    \n",
    "    if draw_lines:\n",
    "        for alpha in np.unique(alphas):\n",
    "            ax.axvline(alpha, lw=0.2)\n",
    "        for beta in np.unique(betas):\n",
    "            ax.axhline(beta, lw=0.2)\n",
    "\n",
    "    ax.plot(alphas, betas, 'ko-')\n",
    "    ax.set_xlabel(\"alpha\")\n",
    "    ax.set_ylabel(\"beta\")\n",
    "\n",
    "    ax.set_xlim(0, 1)\n",
    "    ax.set_ylim(0, 1)\n",
    "\n",
    "    return ((stats_11 > stats_12[:, None]).mean() +\n",
    "            (stats_11 == stats_12[:, None]).mean()/2)\n"
   ]
  },
  {
   "cell_type": "code",
   "execution_count": 45,
   "id": "oriental-eating",
   "metadata": {},
   "outputs": [
    {
     "name": "stdout",
     "output_type": "stream",
     "text": [
      "(10,) (25,)\n"
     ]
    },
    {
     "data": {
      "text/plain": [
       "0.968"
      ]
     },
     "execution_count": 45,
     "metadata": {},
     "output_type": "execute_result"
    },
    {
     "data": {
      "image/png": "[encoded data removed]",
      "text/plain": [
       "<Figure size 720x720 with 1 Axes>"
      ]
     },
     "metadata": {
      "needs_background": "light"
     },
     "output_type": "display_data"
    }
   ],
   "source": [
    "fig, ax = plt.subplots(figsize=(10, 10))\n",
    "\n",
    "alpha_beta_plot(ax,\n",
    "                stats.norm(0, 1),\n",
    "                stats.norm(0.5, 1),\n",
    "                sample_size=20,\n",
    "                statistic=stats.ttest_ind,\n",
    "                n_samples=5,\n",
    "                draw_lines=True)"
   ]
  },
  {
   "cell_type": "code",
   "execution_count": 15,
   "id": "fb317b04",
   "metadata": {},
   "outputs": [],
   "source": []
  },
  {
   "cell_type": "code",
   "execution_count": 358,
   "id": "about-network",
   "metadata": {},
   "outputs": [
    {
     "data": {
      "image/png": "[encoded data removed]",
      "text/plain": [
       "<Figure size 720x432 with 1 Axes>"
      ]
     },
     "metadata": {
      "needs_background": "light"
     },
     "output_type": "display_data"
    }
   ],
   "source": [
    "fig, ax = plt.subplots(figsize=(10, 6))\n",
    "\n",
    "alpha_beta_plot(ax,\n",
    "                stats.norm(0, 1),\n",
    "                stats.norm(3, 1),\n",
    "                30,\n",
    "                stats.kstest,\n",
    "                50)"
   ]
  },
  {
   "cell_type": "markdown",
   "id": "constant-soccer",
   "metadata": {},
   "source": [
    "Why is this going the other direction? Need to read about "
   ]
  },
  {
   "cell_type": "code",
   "execution_count": 359,
   "id": "hungarian-affairs",
   "metadata": {},
   "outputs": [
    {
     "data": {
      "text/plain": [
       "KstestResult(statistic=0.2, pvalue=1.0)"
      ]
     },
     "execution_count": 359,
     "metadata": {},
     "output_type": "execute_result"
    }
   ],
   "source": [
    "stats.kstest([1,2,3,4,5], [2,3,4,5,6])"
   ]
  },
  {
   "cell_type": "code",
   "execution_count": null,
   "id": "underlying-transsexual",
   "metadata": {},
   "outputs": [],
   "source": []
  },
  {
   "cell_type": "markdown",
   "id": "racial-thing",
   "metadata": {},
   "source": [
    "Idea: test that includes whether gaps are bigger or smaller, and uses that in the test statistic. Try to make the statistic distribution free.\n",
    "\n",
    "Think of ways the ordering and layout of element changes when we change the distribution, and look for things that change when you change the underlying distribution, and then you can measure anything that keeps that constant"
   ]
  },
  {
   "cell_type": "code",
   "execution_count": null,
   "id": "monthly-revision",
   "metadata": {},
   "outputs": [],
   "source": []
  },
  {
   "cell_type": "code",
   "execution_count": null,
   "id": "stopped-european",
   "metadata": {},
   "outputs": [],
   "source": []
  },
  {
   "cell_type": "code",
   "execution_count": null,
   "id": "noted-firewall",
   "metadata": {},
   "outputs": [],
   "source": []
  },
  {
   "cell_type": "code",
   "execution_count": null,
   "id": "reasonable-instruction",
   "metadata": {},
   "outputs": [],
   "source": []
  },
  {
   "cell_type": "code",
   "execution_count": null,
   "id": "incident-queensland",
   "metadata": {},
   "outputs": [],
   "source": []
  },
  {
   "cell_type": "code",
   "execution_count": null,
   "id": "double-compiler",
   "metadata": {},
   "outputs": [],
   "source": []
  },
  {
   "cell_type": "code",
   "execution_count": 15,
   "id": "digital-stewart",
   "metadata": {},
   "outputs": [
    {
     "data": {
      "image/png": "[encoded data removed]",
      "text/plain": [
       "<Figure size 432x432 with 1 Axes>"
      ]
     },
     "metadata": {
      "needs_background": "light"
     },
     "output_type": "display_data"
    }
   ],
   "source": [
    "fig, ax = plt.subplots(figsize=(6,6))\n",
    "#ax.plot([0, 1], [0, 1])\n",
    "stats.probplot(data,\n",
    "               dist=stats.uniform(0, 1),\n",
    "               fit=False,\n",
    "               plot=ax);"
   ]
  },
  {
   "cell_type": "code",
   "execution_count": 112,
   "id": "under-murray",
   "metadata": {},
   "outputs": [],
   "source": [
    "import scipy"
   ]
  },
  {
   "cell_type": "code",
   "execution_count": 113,
   "id": "provincial-conversion",
   "metadata": {},
   "outputs": [
    {
     "data": {
      "text/plain": [
       "'1.4.1'"
      ]
     },
     "execution_count": 113,
     "metadata": {},
     "output_type": "execute_result"
    }
   ],
   "source": [
    "scipy.__version__"
   ]
  },
  {
   "cell_type": "code",
   "execution_count": 14,
   "id": "directed-medicaid",
   "metadata": {},
   "outputs": [],
   "source": [
    "import scipy"
   ]
  },
  {
   "cell_type": "code",
   "execution_count": 33,
   "id": "federal-watts",
   "metadata": {},
   "outputs": [
    {
     "data": {
      "text/plain": [
       "<matplotlib.legend.Legend at 0x7fef05533d30>"
      ]
     },
     "execution_count": 33,
     "metadata": {},
     "output_type": "execute_result"
    },
    {
     "data": {
      "image/png": "[encoded data removed]",
      "text/plain": [
       "<Figure size 432x288 with 1 Axes>"
      ]
     },
     "metadata": {
      "needs_background": "light"
     },
     "output_type": "display_data"
    }
   ],
   "source": [
    "data = scipy.stats.norm(0.3, 0.8).rvs(200)\n",
    "# Do these data come from norm(0, 1)?\n",
    "fig, ax = plt.subplots()\n",
    "scipy.stats.probplot(data,\n",
    "                     dist=stats.norm(0, 1),\n",
    "                     fit=False,\n",
    "                     plot=ax)\n",
    "ax.plot([-2, 2], [-2, 2],\n",
    "        label=\"norm(0, 1)\")\n",
    "ax.legend()"
   ]
  },
  {
   "cell_type": "code",
   "execution_count": 30,
   "id": "handled-direction",
   "metadata": {},
   "outputs": [
    {
     "name": "stdout",
     "output_type": "stream",
     "text": [
      "1.6.0 1.19.2 sys.version_info(major=3, minor=9, micro=1, releaselevel='final', serial=0)\n"
     ]
    }
   ],
   "source": [
    "import sys, scipy, numpy; print(scipy.__version__, numpy.__version__, sys.version_info)"
   ]
  },
  {
   "cell_type": "code",
   "execution_count": 1,
   "id": "disciplinary-prevention",
   "metadata": {},
   "outputs": [
    {
     "data": {
      "text/plain": [
       "<matplotlib.legend.Legend at 0x7fe435ea5a00>"
      ]
     },
     "execution_count": 1,
     "metadata": {},
     "output_type": "execute_result"
    },
    {
     "data": {
      "image/png": "[encoded data removed]",
      "text/plain": [
       "<Figure size 432x288 with 1 Axes>"
      ]
     },
     "metadata": {
      "needs_background": "light"
     },
     "output_type": "display_data"
    }
   ],
   "source": [
    "import matplotlib.pyplot as plt\n",
    "from scipy import stats\n",
    "\n",
    "data = stats.norm(0.3, 0.8).rvs(200)\n",
    "# Do these data come from norm(0, 1)?\n",
    "fig, ax = plt.subplots()\n",
    "stats.probplot(data,\n",
    "               dist=stats.norm(0, 1),\n",
    "               fit=False,\n",
    "               plot=ax)\n",
    "ax.plot([-2, 2], [-2, 2],\n",
    "        label=\"norm(0, 1)\")\n",
    "ax.legend()"
   ]
  },
  {
   "cell_type": "code",
   "execution_count": 2,
   "id": "bibliographic-equivalent",
   "metadata": {},
   "outputs": [
    {
     "data": {
      "text/plain": [
       "(array([-2.70069508, -2.39117927, -2.21476595, -2.08844273, -1.98865134,\n",
       "        -1.90545091, -1.83366817, -1.77025272, -1.7132485 , -1.66132288,\n",
       "        -1.61352545, -1.56915347, -1.52767212, -1.48866446, -1.45179889,\n",
       "        -1.41680716, -1.38346902, -1.35160134, -1.32105008, -1.29168444,\n",
       "        -1.26339229, -1.23607681, -1.20965371, -1.18404921, -1.1591983 ,\n",
       "        -1.13504337, -1.11153314, -1.08862177, -1.06626803, -1.04443478,\n",
       "        -1.02308837, -1.00219826, -0.9817366 , -0.96167793, -0.94199891,\n",
       "        -0.9226781 , -0.90369573, -0.88503353, -0.86667459, -0.84860322,\n",
       "        -0.83080482, -0.8132658 , -0.79597346, -0.77891592, -0.76208206,\n",
       "        -0.74546144, -0.72904425, -0.71282124, -0.69678371, -0.68092342,\n",
       "        -0.6652326 , -0.64970389, -0.63433029, -0.61910517, -0.60402223,\n",
       "        -0.58907547, -0.57425918, -0.55956789, -0.5449964 , -0.53053972,\n",
       "        -0.51619308, -0.50195192, -0.48781183, -0.47376862, -0.45981823,\n",
       "        -0.44595676, -0.43218046, -0.41848569, -0.40486897, -0.39132691,\n",
       "        -0.37785624, -0.36445379, -0.35111649, -0.33784135, -0.3246255 ,\n",
       "        -0.3114661 , -0.29836042, -0.28530579, -0.2722996 , -0.25933932,\n",
       "        -0.24642245, -0.23354657, -0.2207093 , -0.20790829, -0.19514126,\n",
       "        -0.18240597, -0.16970019, -0.15702175, -0.1443685 , -0.13173832,\n",
       "        -0.11912912, -0.10653884, -0.09396542, -0.08140684, -0.06886109,\n",
       "        -0.05632616, -0.04380009, -0.03128088, -0.01876657, -0.0062552 ,\n",
       "         0.0062552 ,  0.01876657,  0.03128088,  0.04380009,  0.05632616,\n",
       "         0.06886109,  0.08140684,  0.09396542,  0.10653884,  0.11912912,\n",
       "         0.13173832,  0.1443685 ,  0.15702175,  0.16970019,  0.18240597,\n",
       "         0.19514126,  0.20790829,  0.2207093 ,  0.23354657,  0.24642245,\n",
       "         0.25933932,  0.2722996 ,  0.28530579,  0.29836042,  0.3114661 ,\n",
       "         0.3246255 ,  0.33784135,  0.35111649,  0.36445379,  0.37785624,\n",
       "         0.39132691,  0.40486897,  0.41848569,  0.43218046,  0.44595676,\n",
       "         0.45981823,  0.47376862,  0.48781183,  0.50195192,  0.51619308,\n",
       "         0.53053972,  0.5449964 ,  0.55956789,  0.57425918,  0.58907547,\n",
       "         0.60402223,  0.61910517,  0.63433029,  0.64970389,  0.6652326 ,\n",
       "         0.68092342,  0.69678371,  0.71282124,  0.72904425,  0.74546144,\n",
       "         0.76208206,  0.77891592,  0.79597346,  0.8132658 ,  0.83080482,\n",
       "         0.84860322,  0.86667459,  0.88503353,  0.90369573,  0.9226781 ,\n",
       "         0.94199891,  0.96167793,  0.9817366 ,  1.00219826,  1.02308837,\n",
       "         1.04443478,  1.06626803,  1.08862177,  1.11153314,  1.13504337,\n",
       "         1.1591983 ,  1.18404921,  1.20965371,  1.23607681,  1.26339229,\n",
       "         1.29168444,  1.32105008,  1.35160134,  1.38346902,  1.41680716,\n",
       "         1.45179889,  1.48866446,  1.52767212,  1.56915347,  1.61352545,\n",
       "         1.66132288,  1.7132485 ,  1.77025272,  1.83366817,  1.90545091,\n",
       "         1.98865134,  2.08844273,  2.21476595,  2.39117927,  2.70069508]),\n",
       " array([-1.89826947, -1.78713057, -1.62598755, -1.57646721, -1.45406338,\n",
       "        -1.43657157, -1.42430478, -1.4090189 , -1.346459  , -1.26880638,\n",
       "        -1.24975608, -1.19305913, -1.10837432, -1.1019565 , -1.09349797,\n",
       "        -1.09179708, -1.06388305, -1.01355659, -0.99146227, -0.94554309,\n",
       "        -0.8204803 , -0.80840805, -0.8073499 , -0.77984378, -0.69865478,\n",
       "        -0.69439186, -0.69050285, -0.66647188, -0.65230999, -0.64002128,\n",
       "        -0.5826019 , -0.49158309, -0.45872726, -0.43775768, -0.43642876,\n",
       "        -0.43011348, -0.42777514, -0.42501574, -0.40915195, -0.39749703,\n",
       "        -0.3853379 , -0.38411655, -0.37438157, -0.37195488, -0.35546584,\n",
       "        -0.34941462, -0.34432787, -0.33635255, -0.31809761, -0.30112909,\n",
       "        -0.2991235 , -0.29260657, -0.26858004, -0.26724688, -0.23494848,\n",
       "        -0.22990647, -0.22541522, -0.21890802, -0.21383008, -0.20679875,\n",
       "        -0.19812914, -0.19285083, -0.19219722, -0.18928717, -0.18429811,\n",
       "        -0.18308526, -0.17779954, -0.16479435, -0.16231608, -0.15957868,\n",
       "        -0.13696624, -0.13397654, -0.09498732, -0.08887682, -0.07782449,\n",
       "        -0.05683934, -0.04865506, -0.04638604, -0.04628553,  0.00657878,\n",
       "         0.01133902,  0.03040275,  0.04423265,  0.05330094,  0.06525965,\n",
       "         0.07610076,  0.07936942,  0.15709457,  0.16947611,  0.17257262,\n",
       "         0.17427767,  0.18051114,  0.20427409,  0.20759759,  0.21621212,\n",
       "         0.23388467,  0.24619714,  0.25252374,  0.25809705,  0.25910754,\n",
       "         0.2763531 ,  0.28978009,  0.29389488,  0.29534346,  0.29694036,\n",
       "         0.29828743,  0.30980932,  0.31694557,  0.31969374,  0.33332773,\n",
       "         0.33795234,  0.33893614,  0.34124818,  0.34189439,  0.35756707,\n",
       "         0.36387034,  0.41110525,  0.4176983 ,  0.43607697,  0.44832946,\n",
       "         0.45504   ,  0.47618576,  0.4899418 ,  0.49074677,  0.49351044,\n",
       "         0.49585024,  0.50377737,  0.51767511,  0.51845516,  0.52567327,\n",
       "         0.53133209,  0.53932342,  0.54934974,  0.55127704,  0.56563292,\n",
       "         0.57450373,  0.57621692,  0.5841313 ,  0.59999239,  0.60984844,\n",
       "         0.6161309 ,  0.62855534,  0.66676288,  0.67413759,  0.69812434,\n",
       "         0.70380702,  0.74124941,  0.75671885,  0.75940591,  0.76005291,\n",
       "         0.76934299,  0.78063562,  0.7956832 ,  0.81535156,  0.82146334,\n",
       "         0.8427964 ,  0.846802  ,  0.87269011,  0.89051711,  0.94384054,\n",
       "         0.95514893,  1.00415469,  1.01190949,  1.09025762,  1.09704799,\n",
       "         1.09866439,  1.14588521,  1.16040571,  1.16111707,  1.17151563,\n",
       "         1.18339805,  1.18847906,  1.19658476,  1.19756706,  1.20296408,\n",
       "         1.20790765,  1.24310643,  1.30989284,  1.32969192,  1.34512328,\n",
       "         1.35131689,  1.3554891 ,  1.38170222,  1.40587285,  1.41627906,\n",
       "         1.47270512,  1.50033343,  1.5088917 ,  1.56269465,  1.60549376,\n",
       "         1.6337387 ,  1.65797754,  1.70192767,  1.76662391,  1.77257026,\n",
       "         1.77736523,  2.03942784,  2.10702299,  2.1330308 ,  2.33012687]))"
      ]
     },
     "execution_count": 2,
     "metadata": {},
     "output_type": "execute_result"
    }
   ],
   "source": [
    "stats.probplot(data,\n",
    "               dist=stats.norm(0, 1),\n",
    "               fit=False)"
   ]
  },
  {
   "cell_type": "code",
   "execution_count": 365,
   "id": "adult-feeling",
   "metadata": {},
   "outputs": [
    {
     "data": {
      "text/plain": [
       "100"
      ]
     },
     "execution_count": 365,
     "metadata": {},
     "output_type": "execute_result"
    }
   ],
   "source": [
    "20 + 14 + 7 + 12 + 22 + 25"
   ]
  },
  {
   "cell_type": "code",
   "execution_count": null,
   "id": "hazardous-railway",
   "metadata": {},
   "outputs": [],
   "source": []
  }
 ],
 "metadata": {
  "kernelspec": {
   "display_name": "Python 3",
   "language": "python",
   "name": "python3"
  },
  "language_info": {
   "codemirror_mode": {
    "name": "ipython",
    "version": 3
   },
   "file_extension": ".py",
   "mimetype": "text/x-python",
   "name": "python",
   "nbconvert_exporter": "python",
   "pygments_lexer": "ipython3",
   "version": "3.8.8"
  }
 },
 "nbformat": 4,
 "nbformat_minor": 5
}
