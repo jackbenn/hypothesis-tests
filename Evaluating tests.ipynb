{
 "cells": [
  {
   "cell_type": "markdown",
   "id": "powerful-terrorist",
   "metadata": {},
   "source": [
    "## Evaluating tests\n",
    "\n",
    "This is a notebook discussing how one might evaluate a null-hypothesis significance test, to determine the best test for a given situations.\n",
    "\n",
    "Clearly you need the right test, that measures what you want to measure. But beyond that there are two important issues.\n",
    "\n",
    "First, many tests rely on certain assumptions about your data. While on the high level that's a yes-or-no question, in practice your data might not quite fit the assumptions, the distribution might not be quite normal, the  distributions might change over time. So it's also a question of how robust the test is to violations of the assumptions? In particular, what is the effect of the on the distribution of the p-values?\n",
    "\n",
    "I suspect this might be best done by looking at the value (and maybe first derivative) of the PDF of p-values at $\\alpha = 0$. That might be estimating using some version of the extreme value theorem.\n",
    "\n",
    "Second, how powerful is the test? What's the power of the test, given an effect size and a false-positive rate? The is probably best measured through the area under what I call an alpha-beta curve, below."
   ]
  },
  {
   "cell_type": "code",
   "execution_count": 1,
   "id": "optional-centre",
   "metadata": {},
   "outputs": [],
   "source": [
    "import sys\n",
    "sys.path.append('/Users/jackbennetto/git/graphing_tools/')"
   ]
  },
  {
   "cell_type": "code",
   "execution_count": 38,
   "id": "viral-heath",
   "metadata": {},
   "outputs": [],
   "source": [
    "from scipy import stats\n",
    "import pandas as pd\n",
    "import numpy as np\n",
    "import matplotlib.pyplot as plt\n",
    "import pvalues\n",
    "import sys\n",
    "from functools import partial\n",
    "sys.path.append('/Users/bennetto/git')\n",
    "from graphing_tools.graphing_tools import tools\n",
    "%matplotlib inline"
   ]
  },
  {
   "cell_type": "markdown",
   "id": "ca53e124",
   "metadata": {},
   "source": [
    "## Measuring goodness of p-value\n",
    "\n",
    "As a first estimate of the goodness of fit, consider the distribution of p-values under certain conditions. Ideally, p-values are distributed uniformly between 0 and 1."
   ]
  },
  {
   "cell_type": "markdown",
   "id": "fitted-photographer",
   "metadata": {},
   "source": [
    "First, some code to plot p-values. Here's an actual uniform distribution, showing a KDE and the P-P plot (we use a P-P rather than Q-Q plot since we care about the location and scale of the distribution, not just the shape.)"
   ]
  },
  {
   "cell_type": "code",
   "execution_count": 11,
   "id": "standard-blowing",
   "metadata": {},
   "outputs": [],
   "source": [
    "data = stats.uniform(0, 1).rvs(100)"
   ]
  },
  {
   "cell_type": "code",
   "execution_count": 12,
   "id": "arctic-sunset",
   "metadata": {},
   "outputs": [
    {
     "data": {
      "image/png": "[encoded data removed]",
      "text/plain": [
       "<Figure size 792x360 with 2 Axes>"
      ]
     },
     "metadata": {
      "needs_background": "light"
     },
     "output_type": "display_data"
    }
   ],
   "source": [
    "fig, ax = plt.subplots(1, 2, figsize=(11, 5))\n",
    "pvalues.plot_pvalues(ax[0],\n",
    "                     data)\n",
    "pvalues.plot_quantiles(ax[1],\n",
    "                       data)"
   ]
  },
  {
   "cell_type": "code",
   "execution_count": null,
   "id": "attended-marine",
   "metadata": {},
   "outputs": [],
   "source": []
  },
  {
   "cell_type": "markdown",
   "id": "46dc5d41",
   "metadata": {},
   "source": [
    "### alpha-beta curve\n",
    "\n",
    "An alpha-beta curve (my term) is a way of measuring the overall power of a test, given a particular alternative hypothesis.  Rather than measuring the power at a single threshold or value of alpha, it plots alpha against beta.\n",
    "\n",
    "This is analogous to an ROC curve. We can investigate it in the same way we'd look at the probabilistic interpretation of an ROC curve, with samples from one class ($H_0$) along the horizontal axis, and from the other ($H_A$) along the vertical, both ordered by increasing p-values.\n",
    "\n",
    "Note that significant constraint of this approach is we need to consider an specific alternative hypothesis. Later we'll consider some parameterized $H_A$ and plot that parameter against the AUC.\n",
    "\n",
    "To start, we'll consider a simple problem: determining if a set of points fit the normal distribution. We'll consider a few different options, using a few different alternative hypotheses."
   ]
  },
  {
   "cell_type": "code",
   "execution_count": null,
   "id": "d3b12497",
   "metadata": {},
   "outputs": [],
   "source": []
  },
  {
   "cell_type": "markdown",
   "id": "literary-background",
   "metadata": {},
   "source": [
    "It takes as input two random variables and a test statistic that operates on two samples. It is parameterized by the critical value. For each critical value, it plots the alpha (false-positive rate) for rejecting that two samples taken from the first are from the same distribution, against the beta (false negative rate) that samples taken form the each fail to reject the null."
   ]
  },
  {
   "cell_type": "code",
   "execution_count": 80,
   "id": "a8838d26",
   "metadata": {},
   "outputs": [],
   "source": [
    "def plot_alpha_beta_stats(ax,\n",
    "                          stats_h0, stats_ha,\n",
    "                          draw_lines=False,\n",
    "                          color=None,\n",
    "                          ms=None,\n",
    "                          label=None):\n",
    "    \"\"\"\n",
    "    Plot alpha-beta plot based from a two arrays of statistics,\n",
    "    one in which the null hypothesis is true, one in which\n",
    "    the alternative is.\"\"\"\n",
    "    # consider every possible threshold (criitcal value)\n",
    "    thresholds = np.concatenate([stats_h0, stats_ha, [-np.Inf, np.Inf]])\n",
    "    thresholds = np.unique(thresholds)\n",
    "    \n",
    "    alphas = np.zeros_like(thresholds)\n",
    "    betas = np.zeros_like(thresholds)\n",
    "\n",
    "    # calculate the alpha and beta if the threshold is set at each value\n",
    "    # are we missing an endpoint?\n",
    "    for i, crit in enumerate(thresholds):\n",
    "        alphas[i] = ((crit > stats_h0).sum()/len(stats_h0))\n",
    "        betas[i] = ((crit < stats_ha).sum()/len(stats_ha))\n",
    "    \n",
    "    # draw a grid to help us see what's happening\n",
    "    if draw_lines:\n",
    "        for alpha in np.unique(alphas):\n",
    "            ax.axvline(alpha, lw=0.2)\n",
    "        for beta in np.unique(betas):\n",
    "            ax.axhline(beta, lw=0.2)\n",
    "\n",
    "    ax.plot(alphas, betas, 'o-', color=color, ms=ms, label=label)\n",
    "    ax.set_xlabel(\"alpha\")\n",
    "    ax.set_ylabel(\"beta\")\n",
    "\n",
    "    #ax.set_xlim(0, 1)\n",
    "    #ax.set_ylim(0, 1)\n",
    "\n",
    "    # return the AUC\n",
    "    return ((stats_h0 > stats_ha[:, None]).mean() +\n",
    "            (stats_h0 == stats_ha[:, None]).mean()/2)\n"
   ]
  },
  {
   "cell_type": "code",
   "execution_count": 81,
   "id": "53edff20",
   "metadata": {},
   "outputs": [],
   "source": [
    "def alpha_beta_comparison_plot(ax,\n",
    "                    dist1, dist2,\n",
    "                    sample_size,\n",
    "                    statistic,\n",
    "                    n_samples=10,\n",
    "                    increasing=True,\n",
    "                    draw_lines=False,\n",
    "                    color=None,\n",
    "                    ms=None,\n",
    "                    label=None):\n",
    "    \"\"\"Generate an alpha-beta plot for tests comparing two\n",
    "    independent samples.\n",
    "    dist1 : the 1st distribution. The null hypothesis is that all\n",
    "            data come from this distribution\n",
    "    dist2 : the 2nd distribution. The alternative hypothesis is\n",
    "            one sample comes from dist1 and one from dist2\n",
    "    statistic : function to compare two samples\"\"\"\n",
    "    # get samples from null and alternative distributions\n",
    "    data1 = dist1.rvs((sample_size, n_samples))\n",
    "    data2 = dist2.rvs((sample_size, n_samples))\n",
    "    \n",
    "    # calculate statistic between pairs within \n",
    "    stats_11 = np.zeros((n_samples, n_samples))\n",
    "    stats_12 = np.zeros((n_samples, n_samples))\n",
    "    \n",
    "    for i in range(n_samples):\n",
    "        for j in range(n_samples):\n",
    "            stats_11[i, j] = statistic(data1[:, i], data1[:, j])[0]\n",
    "            stats_12[i, j] = statistic(data1[:, i], data2[:, j])[0]\n",
    "    stats_11 = stats_11[np.tril_indices(n_samples, -1)]\n",
    "    stats_12 = stats_12.flatten()\n",
    "    #print(stats_11.shape, stats_12.shape)\n",
    "    return plot_alpha_beta_stats(ax, stats_11, stats_12,\n",
    "                                 draw_lines,\n",
    "                                 color=color,\n",
    "                                 ms=ms,\n",
    "                                 label=label)\n"
   ]
  },
  {
   "cell_type": "markdown",
   "id": "7eb7d30b",
   "metadata": {},
   "source": [
    "Let's try an easy example: t-tests."
   ]
  },
  {
   "cell_type": "code",
   "execution_count": 82,
   "id": "30c2e4c2",
   "metadata": {},
   "outputs": [],
   "source": [
    "n_samples = 50\n",
    "sample_size = 10"
   ]
  },
  {
   "cell_type": "code",
   "execution_count": 83,
   "id": "76a8d336",
   "metadata": {},
   "outputs": [
    {
     "data": {
      "text/plain": [
       "0.7975510204081633"
      ]
     },
     "execution_count": 83,
     "metadata": {},
     "output_type": "execute_result"
    },
    {
     "data": {
      "image/png": "[encoded data removed]",
      "text/plain": [
       "<Figure size 432x288 with 1 Axes>"
      ]
     },
     "metadata": {
      "needs_background": "light"
     },
     "output_type": "display_data"
    }
   ],
   "source": [
    "fig, ax = plt.subplots()\n",
    "alpha_beta_comparison_plot(ax,\n",
    "                stats.norm(0, 1),\n",
    "                stats.norm(0.5, 1),\n",
    "                sample_size=sample_size,\n",
    "                statistic=stats.ttest_ind,\n",
    "                n_samples=n_samples,\n",
    "                draw_lines=False,\n",
    "                color='k',\n",
    "                ms=2)"
   ]
  },
  {
   "cell_type": "markdown",
   "id": "3273cc3c",
   "metadata": {},
   "source": [
    "Let's get fancier and compare different t-tests (Welch's vs students)."
   ]
  },
  {
   "cell_type": "raw",
   "id": "2411d96a",
   "metadata": {},
   "source": [
    "Warning: this takes a while to run."
   ]
  },
  {
   "cell_type": "code",
   "execution_count": 90,
   "id": "55dc9e9d",
   "metadata": {},
   "outputs": [
    {
     "name": "stdout",
     "output_type": "stream",
     "text": [
      "0.731285108040201 0.6801647386934674\n"
     ]
    },
    {
     "data": {
      "image/png": "[encoded data removed]",
      "text/plain": [
       "<Figure size 504x504 with 1 Axes>"
      ]
     },
     "metadata": {
      "needs_background": "light"
     },
     "output_type": "display_data"
    }
   ],
   "source": [
    "n_samples = 200\n",
    "sample_size = 7\n",
    "\n",
    "fig, ax = plt.subplots(figsize=(7, 7))\n",
    "auc1=alpha_beta_comparison_plot(ax,\n",
    "                stats.norm(0, 1),\n",
    "                stats.norm(0.5, 1),\n",
    "                sample_size=sample_size,\n",
    "                statistic=partial(stats.ttest_ind, equal_var=True),\n",
    "                n_samples=n_samples,\n",
    "                draw_lines=False,\n",
    "                color='red',\n",
    "                ms=2,\n",
    "                label=\"Student's t-test\")\n",
    "\n",
    "auc2=alpha_beta_comparison_plot(ax,\n",
    "                stats.norm(0, 1),\n",
    "                stats.norm(0.5, 1),\n",
    "                sample_size=sample_size,\n",
    "                statistic=partial(stats.ttest_ind, equal_var=False),\n",
    "                n_samples=n_samples,\n",
    "                draw_lines=False,\n",
    "                color='blue',\n",
    "                ms=2,\n",
    "                label=\"Welch's t-test\")\n",
    "ax.legend()\n",
    "print(auc1, auc2)"
   ]
  },
  {
   "cell_type": "markdown",
   "id": "b0a13bb4",
   "metadata": {},
   "source": [
    "As expected, Welch's test has less power...but I'm not sure we have enough data."
   ]
  },
  {
   "cell_type": "code",
   "execution_count": null,
   "id": "552701b3",
   "metadata": {},
   "outputs": [],
   "source": []
  },
  {
   "cell_type": "code",
   "execution_count": 93,
   "id": "oriental-eating",
   "metadata": {},
   "outputs": [
    {
     "data": {
      "text/plain": [
       "0.832"
      ]
     },
     "execution_count": 93,
     "metadata": {},
     "output_type": "execute_result"
    },
    {
     "data": {
      "image/png": "[encoded data removed]",
      "text/plain": [
       "<Figure size 720x720 with 1 Axes>"
      ]
     },
     "metadata": {
      "needs_background": "light"
     },
     "output_type": "display_data"
    }
   ],
   "source": [
    "fig, ax = plt.subplots(figsize=(10, 10))\n",
    "\n",
    "alpha_beta_comparison_plot(ax,\n",
    "                stats.norm(0, 1),\n",
    "                stats.norm(0.5, 1),\n",
    "                sample_size=20,\n",
    "                statistic=stats.ttest_ind,\n",
    "                n_samples=5,\n",
    "                draw_lines=True)"
   ]
  },
  {
   "cell_type": "code",
   "execution_count": 15,
   "id": "cb0054be",
   "metadata": {},
   "outputs": [],
   "source": []
  },
  {
   "cell_type": "code",
   "execution_count": 359,
   "id": "hungarian-affairs",
   "metadata": {},
   "outputs": [
    {
     "data": {
      "text/plain": [
       "KstestResult(statistic=0.2, pvalue=1.0)"
      ]
     },
     "execution_count": 359,
     "metadata": {},
     "output_type": "execute_result"
    }
   ],
   "source": [
    "stats.kstest([1,2,3,4,5], [2,3,4,5,6])"
   ]
  },
  {
   "cell_type": "code",
   "execution_count": null,
   "id": "underlying-transsexual",
   "metadata": {},
   "outputs": [],
   "source": []
  },
  {
   "cell_type": "markdown",
   "id": "racial-thing",
   "metadata": {},
   "source": [
    "Idea: test that includes whether gaps are bigger or smaller, and uses that in the test statistic. Try to make the statistic distribution free.\n",
    "\n",
    "Think of ways the ordering and layout of element changes when we change the distribution, and look for things that change when you change the underlying distribution, and then you can measure anything that keeps that constant"
   ]
  },
  {
   "cell_type": "code",
   "execution_count": null,
   "id": "monthly-revision",
   "metadata": {},
   "outputs": [],
   "source": []
  },
  {
   "cell_type": "code",
   "execution_count": null,
   "id": "hazardous-railway",
   "metadata": {},
   "outputs": [],
   "source": []
  }
 ],
 "metadata": {
  "kernelspec": {
   "display_name": "Python 3",
   "language": "python",
   "name": "python3"
  }
 },
 "nbformat": 4,
 "nbformat_minor": 5
}
