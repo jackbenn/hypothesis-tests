{
 "cells": [
  {
   "cell_type": "markdown",
   "id": "controversial-celebration",
   "metadata": {},
   "source": [
    "# AUC Hypothesis tests\n",
    "\n",
    "Suppose you build a predictive model on a small sample. It has a small AUC/ROC. Can you state if it is significantly better than chance?\n",
    "\n",
    "What is the distribution of ROC/AUC scores under the null hypothesis?"
   ]
  },
  {
   "cell_type": "code",
   "execution_count": 1,
   "id": "missing-prototype",
   "metadata": {},
   "outputs": [],
   "source": [
    "from sklearn.metrics import roc_auc_score\n",
    "import numpy as np\n",
    "import matplotlib.pyplot as plt\n",
    "from scipy import stats\n",
    "%matplotlib inline"
   ]
  },
  {
   "cell_type": "markdown",
   "id": "norwegian-motel",
   "metadata": {},
   "source": [
    "Let's start at 50% positive class, 100 data points."
   ]
  },
  {
   "cell_type": "code",
   "execution_count": 2,
   "id": "employed-minority",
   "metadata": {},
   "outputs": [],
   "source": [
    "def get_auc_sample(y_true):\n",
    "    y_score = np.random.choice(np.arange(len(y_true)),\n",
    "                               len(y_true),\n",
    "                               replace=False)\n",
    "    return roc_auc_score(y_true, y_score)\n",
    "\n",
    "def get_auc_samples(p_pos, n_pts, n_samples):\n",
    "    n_pos = int(p_pos * n_pts)\n",
    "    n_neg = n_pts - n_pos\n",
    "    print(n_pos, n_neg)\n",
    "    y_true = np.concatenate([np.zeros(n_neg), np.ones(n_pos)])\n",
    "    print(y_true)\n",
    "    aucs = np.zeros(n_samples)\n",
    "    for i in range(n_samples):\n",
    "        aucs[i] = get_auc_sample(y_true)\n",
    "    return aucs"
   ]
  },
  {
   "cell_type": "code",
   "execution_count": 3,
   "id": "functional-toner",
   "metadata": {},
   "outputs": [
    {
     "name": "stdout",
     "output_type": "stream",
     "text": [
      "4 4\n",
      "[0. 0. 0. 0. 1. 1. 1. 1.]\n"
     ]
    }
   ],
   "source": [
    "aucs = get_auc_samples(0.5, 8, 10000)"
   ]
  },
  {
   "cell_type": "code",
   "execution_count": 4,
   "id": "accessible-template",
   "metadata": {},
   "outputs": [
    {
     "data": {
      "image/png": "[encoded data removed]",
      "text/plain": [
       "<Figure size 432x288 with 1 Axes>"
      ]
     },
     "metadata": {
      "needs_background": "light"
     },
     "output_type": "display_data"
    }
   ],
   "source": [
    "fig, ax = plt.subplots()\n",
    "xpts = np.linspace(0.25, 0.75, 500)\n",
    "ax.plot(xpts, stats.norm(aucs.mean(), aucs.std()).pdf(xpts))\n",
    "ax.hist(aucs, bins=300, alpha=0.5, density=True);"
   ]
  },
  {
   "cell_type": "code",
   "execution_count": 5,
   "id": "stainless-pharmacology",
   "metadata": {},
   "outputs": [
    {
     "data": {
      "text/plain": [
       "(array([0.    , 0.0625, 0.125 , 0.1875, 0.25  , 0.3125, 0.375 , 0.4375,\n",
       "        0.5   , 0.5625, 0.625 , 0.6875, 0.75  , 0.8125, 0.875 , 0.9375,\n",
       "        1.    ]),\n",
       " array([ 134,  146,  291,  420,  704,  690, 1071, 1010, 1096,  982, 1037,\n",
       "         700,  728,  446,  263,  152,  130]))"
      ]
     },
     "execution_count": 5,
     "metadata": {},
     "output_type": "execute_result"
    }
   ],
   "source": [
    "np.unique(aucs, return_counts=True)"
   ]
  },
  {
   "cell_type": "code",
   "execution_count": 6,
   "id": "partial-helping",
   "metadata": {},
   "outputs": [
    {
     "data": {
      "image/png": "[encoded data removed]",
      "text/plain": [
       "<Figure size 432x288 with 1 Axes>"
      ]
     },
     "metadata": {
      "needs_background": "light"
     },
     "output_type": "display_data"
    }
   ],
   "source": [
    "fig, ax = plt.subplots()\n",
    "ax.plot(xpts, stats.norm(aucs.mean(), aucs.std()).pdf(xpts))\n",
    "ax.bar(*np.unique(aucs, return_counts=True),\n",
    "        alpha=0.5);"
   ]
  },
  {
   "cell_type": "code",
   "execution_count": 7,
   "id": "disciplinary-swimming",
   "metadata": {},
   "outputs": [
    {
     "data": {
      "image/png": "[encoded data removed]",
      "text/plain": [
       "<Figure size 432x288 with 1 Axes>"
      ]
     },
     "metadata": {
      "needs_background": "light"
     },
     "output_type": "display_data"
    }
   ],
   "source": [
    "fig, ax = plt.subplots()\n",
    "ax.plot(xpts, stats.norm(aucs.mean(), aucs.std()).pdf(xpts))\n",
    "ax.bar([1,2,3,5,6,8], [2,3,2,3,4,6],\n",
    "        alpha=0.5);"
   ]
  },
  {
   "cell_type": "code",
   "execution_count": null,
   "id": "painted-kenya",
   "metadata": {},
   "outputs": [],
   "source": []
  },
  {
   "cell_type": "code",
   "execution_count": null,
   "id": "bacterial-joyce",
   "metadata": {},
   "outputs": [],
   "source": []
  },
  {
   "cell_type": "markdown",
   "id": "damaged-newman",
   "metadata": {},
   "source": [
    "Or we could do a bar graph which would look better.\n",
    "\n",
    "But clearly it's not binomial. I wonder what the distribution is?"
   ]
  },
  {
   "cell_type": "code",
   "execution_count": null,
   "id": "hydraulic-filename",
   "metadata": {},
   "outputs": [],
   "source": []
  },
  {
   "cell_type": "code",
   "execution_count": null,
   "id": "interstate-spouse",
   "metadata": {},
   "outputs": [],
   "source": []
  },
  {
   "cell_type": "code",
   "execution_count": null,
   "id": "uniform-memorial",
   "metadata": {},
   "outputs": [],
   "source": []
  },
  {
   "cell_type": "code",
   "execution_count": 8,
   "id": "fancy-stability",
   "metadata": {},
   "outputs": [],
   "source": [
    "p_pos = 0.5\n",
    "n_pts = 100\n",
    "n_pos = int(p_pos * n_pts)\n",
    "n_neg = n_pts - n_pos\n",
    "y_true = np.concatenate([np.zeros(n_neg), np.ones(n_pos)])"
   ]
  },
  {
   "cell_type": "code",
   "execution_count": 9,
   "id": "native-harvest",
   "metadata": {},
   "outputs": [],
   "source": [
    "n_samples = 10000\n",
    "aucs = np.zeros(n_samples)\n",
    "for i in range(n_samples):\n",
    "    y_score = np.random.choice(np.arange(n_pts), n_pts, replace=False)\n",
    "    aucs[i] = roc_auc_score(y_true, y_score)"
   ]
  },
  {
   "cell_type": "code",
   "execution_count": 10,
   "id": "twenty-parish",
   "metadata": {},
   "outputs": [
    {
     "data": {
      "image/png": "[encoded data removed]",
      "text/plain": [
       "<Figure size 432x288 with 1 Axes>"
      ]
     },
     "metadata": {
      "needs_background": "light"
     },
     "output_type": "display_data"
    }
   ],
   "source": [
    "fig, ax = plt.subplots()\n",
    "xpts = np.linspace(0.25, 0.75, 500)\n",
    "ax.plot(xpts, stats.norm(aucs.mean(), aucs.std()).pdf(xpts))\n",
    "ax.hist(aucs, bins=50, alpha=0.5, density=True);"
   ]
  },
  {
   "cell_type": "markdown",
   "id": "wanted-divorce",
   "metadata": {},
   "source": [
    "For later: k-fold cross-validation. Distribution of modeling distribution of AUCs of a model built under different samples (sample statistic)"
   ]
  },
  {
   "cell_type": "code",
   "execution_count": null,
   "id": "passing-greece",
   "metadata": {},
   "outputs": [],
   "source": []
  }
 ],
 "metadata": {
  "kernelspec": {
   "display_name": "Python 3",
   "language": "python",
   "name": "python3"
  },
  "language_info": {
   "codemirror_mode": {
    "name": "ipython",
    "version": 3
   },
   "file_extension": ".py",
   "mimetype": "text/x-python",
   "name": "python",
   "nbconvert_exporter": "python",
   "pygments_lexer": "ipython3",
   "version": "3.7.7"
  }
 },
 "nbformat": 4,
 "nbformat_minor": 5
}
