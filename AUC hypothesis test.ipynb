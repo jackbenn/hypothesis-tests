{
 "cells": [
  {
   "cell_type": "markdown",
   "id": "known-brooks",
   "metadata": {},
   "source": [
    "# AUC Hypothesis tests\n",
    "\n",
    "Suppose you build a predictive model on a small sample. It has a small AUC/ROC. Can you state if it is significantly better than chance?\n",
    "\n",
    "What is the distribution of ROC/AUC scores under the null hypothesis?"
   ]
  },
  {
   "cell_type": "code",
   "execution_count": 1,
   "id": "encouraging-tattoo",
   "metadata": {},
   "outputs": [],
   "source": [
    "from sklearn.metrics import roc_auc_score\n",
    "import numpy as np\n",
    "import matplotlib.pyplot as plt\n",
    "from scipy import stats\n",
    "%matplotlib inline"
   ]
  },
  {
   "cell_type": "markdown",
   "id": "constant-trash",
   "metadata": {},
   "source": [
    "Let's start with some functions to generate the AUC of a random model, given a number of points and fraction positive.\n",
    "\n",
    "I'm defining a **random model** as one for which the ordering of predicted probabilities is independent of the true labels."
   ]
  },
  {
   "cell_type": "code",
   "execution_count": 2,
   "id": "crucial-upgrade",
   "metadata": {},
   "outputs": [],
   "source": [
    "def get_auc_sample(y_true):\n",
    "    '''Generate an AUC from a random model and some actual target'''\n",
    "    y_score = np.random.choice(np.arange(len(y_true)),\n",
    "                               len(y_true),\n",
    "                               replace=False)\n",
    "    return roc_auc_score(y_true, y_score)\n",
    "\n",
    "def get_auc_samples(p_pos, n_pts, n_samples):\n",
    "    n_pos = int(p_pos * n_pts)\n",
    "    n_neg = n_pts - n_pos\n",
    "    y_true = np.concatenate([np.zeros(n_neg), np.ones(n_pos)])\n",
    "    aucs = np.zeros(n_samples)\n",
    "    for i in range(n_samples):\n",
    "        aucs[i] = get_auc_sample(y_true)\n",
    "    return aucs"
   ]
  },
  {
   "cell_type": "code",
   "execution_count": 3,
   "id": "wanted-booth",
   "metadata": {},
   "outputs": [],
   "source": [
    "aucs = get_auc_samples(0.5, 8, 10000)"
   ]
  },
  {
   "cell_type": "markdown",
   "id": "lyric-allen",
   "metadata": {},
   "source": [
    "**Warning:** There's an issue here about getting unique float-point values for some numbers of samples."
   ]
  },
  {
   "cell_type": "code",
   "execution_count": 4,
   "id": "protecting-customer",
   "metadata": {},
   "outputs": [],
   "source": [
    "def plot_normalized_bars(ax, xs, ys, spacing):\n",
    "    '''Note that xs are assumed to be unique and sorted'''\n",
    "    ax.bar(xs,\n",
    "           ys/ys.sum(),\n",
    "           width=spacing*0.7)\n",
    "\n",
    "def plot_aucs(ax, aucs):\n",
    "\n",
    "    xpts = np.linspace(-0.2, 1.2)\n",
    "\n",
    "\n",
    "    unique_aucs, counts = np.unique(aucs,\n",
    "                                    return_counts=True)\n",
    "    spacing = (unique_aucs[1:] -\n",
    "               unique_aucs[:-1]).min()\n",
    "    #print(unique_aucs, counts, spacing)\n",
    "    ax.plot(xpts, stats.norm(aucs.mean(),\n",
    "                             aucs.std()).pdf(xpts) * spacing,\n",
    "                             'k-')\n",
    "    plot_normalized_bars(ax, unique_aucs, counts, spacing)\n",
    "    ax.set_xlabel('AUC')\n",
    "    ax.set_ylabel('Probability')"
   ]
  },
  {
   "cell_type": "code",
   "execution_count": 5,
   "id": "diverse-breach",
   "metadata": {
    "scrolled": true
   },
   "outputs": [
    {
     "data": {
      "image/png": "[encoded data removed]",
      "text/plain": [
       "<Figure size 432x288 with 1 Axes>"
      ]
     },
     "metadata": {
      "needs_background": "light"
     },
     "output_type": "display_data"
    }
   ],
   "source": [
    "fig, ax = plt.subplots()\n",
    "plot_aucs(ax, aucs)"
   ]
  },
  {
   "cell_type": "markdown",
   "id": "classical-american",
   "metadata": {},
   "source": [
    "Clearly it's not binomial. I'm not sure if this distribution has a name."
   ]
  },
  {
   "cell_type": "markdown",
   "id": "ceramic-crossing",
   "metadata": {},
   "source": [
    "Suppose, rather than a train-test split, we're evaluating our model with k-fold cross-validation.\n",
    "\n",
    "In the naive approach, we take the average of the AUC of the k folds, and compare it the distribution of the average of k AUCs as above.\n",
    "\n",
    "The problem is that it doesn't account for the relationship between the values, that even if the model is useless, the AUCs calculated on different folds may be more similar to each other than random models.\n",
    "\n",
    "We may need to understand the distribution of AUCs of a model built under different samples. For a large sample this should be normally distributed."
   ]
  },
  {
   "cell_type": "code",
   "execution_count": null,
   "id": "funded-singer",
   "metadata": {},
   "outputs": [],
   "source": []
  }
 ],
 "metadata": {
  "kernelspec": {
   "display_name": "Python 3",
   "language": "python",
   "name": "python3"
  },
  "language_info": {
   "codemirror_mode": {
    "name": "ipython",
    "version": 3
   },
   "file_extension": ".py",
   "mimetype": "text/x-python",
   "name": "python",
   "nbconvert_exporter": "python",
   "pygments_lexer": "ipython3",
   "version": "3.7.7"
  }
 },
 "nbformat": 4,
 "nbformat_minor": 5
}
