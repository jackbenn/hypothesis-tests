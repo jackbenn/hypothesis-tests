{
 "cells": [
  {
   "cell_type": "markdown",
   "id": "impaired-interval",
   "metadata": {},
   "source": [
    "An exploration of different tests, comparing them in terms of the conditions (and the p-value distribution if these are violated) and the power.\n",
    "\n",
    "In particular, this will focus in the Student's t-test, Welch's t-test, and Mann-Whitney test."
   ]
  },
  {
   "cell_type": "code",
   "execution_count": 167,
   "id": "regular-appointment",
   "metadata": {},
   "outputs": [],
   "source": [
    "from scipy import stats\n",
    "from scipy import optimize\n",
    "import numpy as np\n",
    "import matplotlib.pyplot as plt\n",
    "%matplotlib inline\n",
    "from functools import partial"
   ]
  },
  {
   "cell_type": "code",
   "execution_count": 103,
   "id": "selected-champagne",
   "metadata": {},
   "outputs": [],
   "source": [
    "def get_p_values(dist1, dist2, test, n=10, n_trials=10000):\n",
    "    p_values = []\n",
    "    for _ in range(n_trials):\n",
    "        sample_a = dist1.rvs(n)\n",
    "        sample_b = dist2.rvs(n)\n",
    "        result = test(sample_a, sample_b)\n",
    "        p_values.append(result[1])\n",
    "    return p_values"
   ]
  },
  {
   "cell_type": "markdown",
   "id": "bridal-eleven",
   "metadata": {},
   "source": [
    "First, compare identical distributions as a baseline."
   ]
  },
  {
   "cell_type": "code",
   "execution_count": 31,
   "id": "governing-happening",
   "metadata": {},
   "outputs": [],
   "source": [
    "p_values = get_p_values(stats.norm(0, 1),\n",
    "                        stats.norm(0, 1),\n",
    "                        stats.ttest_ind,\n",
    "                        10,\n",
    "                        10000)"
   ]
  },
  {
   "cell_type": "code",
   "execution_count": 32,
   "id": "interstate-boxing",
   "metadata": {},
   "outputs": [
    {
     "data": {
      "image/png": "[encoded data removed]",
      "text/plain": [
       "<Figure size 432x288 with 1 Axes>"
      ]
     },
     "metadata": {
      "needs_background": "light"
     },
     "output_type": "display_data"
    }
   ],
   "source": [
    "fig, ax = plt.subplots()\n",
    "ax.hist(p_values, bins=50, density=True);"
   ]
  },
  {
   "cell_type": "markdown",
   "id": "particular-friendly",
   "metadata": {},
   "source": [
    "Next, look at the same for unequal variances."
   ]
  },
  {
   "cell_type": "code",
   "execution_count": 33,
   "id": "compressed-virtue",
   "metadata": {},
   "outputs": [],
   "source": [
    "p_values = get_p_values(stats.norm(0, 1),\n",
    "                        stats.norm(0, 5),\n",
    "                        stats.ttest_ind,\n",
    "                        10,\n",
    "                        10000)"
   ]
  },
  {
   "cell_type": "code",
   "execution_count": 34,
   "id": "economic-castle",
   "metadata": {},
   "outputs": [
    {
     "data": {
      "image/png": "[encoded data removed]",
      "text/plain": [
       "<Figure size 432x288 with 1 Axes>"
      ]
     },
     "metadata": {
      "needs_background": "light"
     },
     "output_type": "display_data"
    }
   ],
   "source": [
    "fig, ax = plt.subplots()\n",
    "ax.hist(p_values, bins=50, density=True);"
   ]
  },
  {
   "cell_type": "markdown",
   "id": "pharmaceutical-jumping",
   "metadata": {},
   "source": [
    "Check whether changing the test to allow uneuqal variances fixes that."
   ]
  },
  {
   "cell_type": "code",
   "execution_count": 39,
   "id": "noted-blocking",
   "metadata": {},
   "outputs": [],
   "source": [
    "p_values = get_p_values(stats.norm(0, 1),\n",
    "                        stats.norm(0, 5),\n",
    "                        partial(stats.ttest_ind,\n",
    "                                equal_var=False),\n",
    "                        10,\n",
    "                        10000)"
   ]
  },
  {
   "cell_type": "code",
   "execution_count": 40,
   "id": "unnecessary-vertex",
   "metadata": {},
   "outputs": [
    {
     "data": {
      "image/png": "[encoded data removed]",
      "text/plain": [
       "<Figure size 432x288 with 1 Axes>"
      ]
     },
     "metadata": {
      "needs_background": "light"
     },
     "output_type": "display_data"
    }
   ],
   "source": [
    "fig, ax = plt.subplots()\n",
    "ax.hist(p_values, bins=50, density=True);"
   ]
  },
  {
   "cell_type": "markdown",
   "id": "incident-monitor",
   "metadata": {},
   "source": [
    "What if we use non-normal distributions?"
   ]
  },
  {
   "cell_type": "code",
   "execution_count": 81,
   "id": "fourth-latino",
   "metadata": {},
   "outputs": [],
   "source": [
    "p_values = get_p_values(stats.uniform(0, 1),\n",
    "                        stats.uniform(0, 1),\n",
    "                        partial(stats.ttest_ind,\n",
    "                                equal_var=True),\n",
    "                        10,\n",
    "                        500000)"
   ]
  },
  {
   "cell_type": "code",
   "execution_count": 82,
   "id": "sharing-adapter",
   "metadata": {},
   "outputs": [
    {
     "data": {
      "image/png": "[encoded data removed]",
      "text/plain": [
       "<Figure size 720x360 with 1 Axes>"
      ]
     },
     "metadata": {
      "needs_background": "light"
     },
     "output_type": "display_data"
    }
   ],
   "source": [
    "fig, ax = plt.subplots(figsize=(10, 5))\n",
    "ax.hist(p_values, bins=1000, density=True);"
   ]
  },
  {
   "cell_type": "markdown",
   "id": "broadband-exercise",
   "metadata": {},
   "source": [
    "Let's zoom in."
   ]
  },
  {
   "cell_type": "code",
   "execution_count": 68,
   "id": "major-burke",
   "metadata": {},
   "outputs": [
    {
     "data": {
      "text/plain": [
       "(0.0, 0.01)"
      ]
     },
     "execution_count": 68,
     "metadata": {},
     "output_type": "execute_result"
    },
    {
     "data": {
      "image/png": "[encoded data removed]",
      "text/plain": [
       "<Figure size 720x360 with 1 Axes>"
      ]
     },
     "metadata": {
      "needs_background": "light"
     },
     "output_type": "display_data"
    }
   ],
   "source": [
    "fig, ax = plt.subplots(figsize=(10, 5))\n",
    "ax.hist(p_values, bins=10000, density=True);\n",
    "ax.set_xlim(0, 0.01)"
   ]
  },
  {
   "cell_type": "code",
   "execution_count": null,
   "id": "fifty-borough",
   "metadata": {},
   "outputs": [],
   "source": []
  },
  {
   "cell_type": "code",
   "execution_count": 136,
   "id": "heavy-storage",
   "metadata": {},
   "outputs": [],
   "source": [
    "p_values = get_p_values(stats.expon(0, 1),\n",
    "                        stats.expon(0, 1),\n",
    "                        partial(stats.ttest_ind,\n",
    "                                equal_var=True),\n",
    "                        100,\n",
    "                        3000000)"
   ]
  },
  {
   "cell_type": "code",
   "execution_count": 144,
   "id": "ordered-fleece",
   "metadata": {},
   "outputs": [
    {
     "data": {
      "text/plain": [
       "(0.0, 1.0)"
      ]
     },
     "execution_count": 144,
     "metadata": {},
     "output_type": "execute_result"
    },
    {
     "data": {
      "image/png": "[encoded data removed]",
      "text/plain": [
       "<Figure size 720x360 with 1 Axes>"
      ]
     },
     "metadata": {
      "needs_background": "light"
     },
     "output_type": "display_data"
    }
   ],
   "source": [
    "fig, ax = plt.subplots(figsize=(10, 5))\n",
    "ax.hist(p_values, bins=10000, density=True);\n",
    "ax.set_xlim(0, 1)"
   ]
  },
  {
   "cell_type": "code",
   "execution_count": 147,
   "id": "ultimate-decimal",
   "metadata": {},
   "outputs": [],
   "source": [
    "p_values = np.array(p_values)"
   ]
  },
  {
   "cell_type": "code",
   "execution_count": 155,
   "id": "signal-nancy",
   "metadata": {},
   "outputs": [
    {
     "data": {
      "text/plain": [
       "3000000"
      ]
     },
     "execution_count": 155,
     "metadata": {},
     "output_type": "execute_result"
    }
   ],
   "source": [
    "sum(p_values < len(p_values)*0.05)"
   ]
  },
  {
   "cell_type": "code",
   "execution_count": 166,
   "id": "biblical-offset",
   "metadata": {},
   "outputs": [
    {
     "data": {
      "text/plain": [
       "array([3.51202746e-05, 1.33314289e-05, 3.09422729e-05, 6.75120734e-06,\n",
       "       4.65526376e-05, 9.93453692e-06, 3.57650550e-05, 3.95082296e-05,\n",
       "       3.70402276e-05, 2.59282373e-05, 2.17660392e-05, 7.25387071e-06,\n",
       "       4.90665392e-05, 3.53332849e-05, 4.53275720e-05, 2.81819837e-05,\n",
       "       2.87248474e-05, 3.98830329e-05, 2.72817233e-05, 4.60545030e-06,\n",
       "       4.36230357e-05, 4.24821619e-05, 1.37440742e-05, 1.19177761e-05,\n",
       "       5.22075009e-06, 3.15905306e-05, 5.40624483e-07, 6.69554763e-06,\n",
       "       1.60998874e-05, 4.14853567e-05, 1.91694997e-05, 5.67176805e-06,\n",
       "       2.71351778e-05, 3.89096317e-05, 2.04970206e-05, 2.17112555e-05,\n",
       "       2.22871252e-05, 9.60451622e-07, 4.12903035e-05, 4.89689881e-05,\n",
       "       3.20333666e-05, 6.47752911e-06, 3.06990166e-05, 1.51867409e-05,\n",
       "       1.61171734e-05, 4.62410351e-05, 4.94319920e-05, 3.76154375e-05,\n",
       "       3.07671919e-06, 3.41804536e-05, 3.08280942e-06, 3.69358531e-05,\n",
       "       4.61141957e-05, 1.47041675e-05, 4.82774258e-05, 1.18543763e-05,\n",
       "       4.64972918e-05, 4.44071185e-05, 4.71846367e-05, 2.08681205e-05,\n",
       "       7.57850316e-08, 5.60392124e-06, 1.49618486e-06, 2.65011695e-06,\n",
       "       3.43012075e-05, 1.91330259e-05, 3.67454918e-05, 2.54658799e-05,\n",
       "       4.96602244e-05, 8.36573311e-06, 2.88414920e-05, 4.23876477e-06,\n",
       "       1.32902128e-05, 4.50481556e-05, 3.93837331e-05, 4.29223924e-05,\n",
       "       9.96059918e-06, 6.89711338e-06, 4.53560303e-05, 3.71114655e-05,\n",
       "       4.71331490e-05, 3.49910254e-05, 2.44599412e-05, 1.93857276e-05,\n",
       "       3.52381253e-05, 4.81315021e-05, 1.04164347e-05, 3.50990977e-05,\n",
       "       3.17900154e-05, 3.49682236e-05, 2.70373264e-05, 1.73759150e-05,\n",
       "       4.15277264e-06, 4.17813601e-05, 4.63954724e-05, 2.11130260e-05,\n",
       "       1.42071279e-05, 4.10888914e-05])"
      ]
     },
     "execution_count": 166,
     "metadata": {},
     "output_type": "execute_result"
    }
   ],
   "source": [
    "p_values[(p_values < 0.00005)]"
   ]
  },
  {
   "cell_type": "code",
   "execution_count": null,
   "id": "essential-thumbnail",
   "metadata": {},
   "outputs": [],
   "source": []
  },
  {
   "cell_type": "code",
   "execution_count": null,
   "id": "behind-trauma",
   "metadata": {},
   "outputs": [],
   "source": []
  },
  {
   "cell_type": "code",
   "execution_count": null,
   "id": "explicit-conclusion",
   "metadata": {},
   "outputs": [],
   "source": []
  },
  {
   "cell_type": "code",
   "execution_count": null,
   "id": "processed-education",
   "metadata": {},
   "outputs": [],
   "source": []
  },
  {
   "cell_type": "code",
   "execution_count": null,
   "id": "helpful-fighter",
   "metadata": {},
   "outputs": [],
   "source": []
  },
  {
   "cell_type": "code",
   "execution_count": null,
   "id": "ignored-cycling",
   "metadata": {},
   "outputs": [],
   "source": []
  },
  {
   "cell_type": "markdown",
   "id": "intimate-repository",
   "metadata": {},
   "source": [
    "I wonder if the behavior at p=0 is a function of kurtosis (the exponential distribution has a large kurtosis, and the uniform distribution has a small one).\n",
    "\n",
    "Let's try something extreme."
   ]
  },
  {
   "cell_type": "code",
   "execution_count": 78,
   "id": "confirmed-bathroom",
   "metadata": {},
   "outputs": [],
   "source": [
    "p_values = get_p_values(stats.cauchy(1),\n",
    "                        stats.cauchy(1),\n",
    "                        partial(stats.ttest_ind,\n",
    "                                equal_var=True),\n",
    "                        10,\n",
    "                        50000)"
   ]
  },
  {
   "cell_type": "code",
   "execution_count": 79,
   "id": "designing-italy",
   "metadata": {},
   "outputs": [
    {
     "data": {
      "text/plain": [
       "(0.0, 1.0)"
      ]
     },
     "execution_count": 79,
     "metadata": {},
     "output_type": "execute_result"
    },
    {
     "data": {
      "image/png": "[encoded data removed]",
      "text/plain": [
       "<Figure size 720x360 with 1 Axes>"
      ]
     },
     "metadata": {
      "needs_background": "light"
     },
     "output_type": "display_data"
    }
   ],
   "source": [
    "fig, ax = plt.subplots(figsize=(10, 5))\n",
    "ax.hist(p_values, bins=500, density=True);\n",
    "ax.set_xlim(0, 1)"
   ]
  },
  {
   "cell_type": "markdown",
   "id": "prime-brake",
   "metadata": {},
   "source": [
    "Whoa."
   ]
  },
  {
   "cell_type": "markdown",
   "id": "joint-charleston",
   "metadata": {},
   "source": [
    "How does Mann-Whitney do?"
   ]
  },
  {
   "cell_type": "code",
   "execution_count": 111,
   "id": "indie-wedding",
   "metadata": {},
   "outputs": [],
   "source": [
    "p_values = get_p_values(stats.norm(0, 1),\n",
    "                        stats.norm(0, 1),\n",
    "                        partial(stats.mannwhitneyu,\n",
    "                                alternative='less'),\n",
    "                        10,\n",
    "                        100000)"
   ]
  },
  {
   "cell_type": "code",
   "execution_count": 121,
   "id": "vertical-orientation",
   "metadata": {},
   "outputs": [
    {
     "data": {
      "text/plain": [
       "(0.0, 1.0)"
      ]
     },
     "execution_count": 121,
     "metadata": {},
     "output_type": "execute_result"
    },
    {
     "data": {
      "image/png": "[encoded data removed]",
      "text/plain": [
       "<Figure size 720x360 with 1 Axes>"
      ]
     },
     "metadata": {
      "needs_background": "light"
     },
     "output_type": "display_data"
    }
   ],
   "source": [
    "fig, ax = plt.subplots(figsize=(10, 5))\n",
    "ax.hist(p_values, bins=200, density=True);\n",
    "ax.set_xlim(0, 1)"
   ]
  },
  {
   "cell_type": "markdown",
   "id": "deluxe-minimum",
   "metadata": {},
   "source": [
    "That's pretty discretized."
   ]
  },
  {
   "cell_type": "code",
   "execution_count": null,
   "id": "furnished-gathering",
   "metadata": {},
   "outputs": [],
   "source": []
  },
  {
   "cell_type": "markdown",
   "id": "animated-refrigerator",
   "metadata": {},
   "source": [
    "## Fitting to GEVD\n",
    "\n",
    "We should be able to understand the behavior at the maximum by a weighted fit to the Generalized Extreme Value Distribution. Specifically we'd use the Weibull distribution, since there's a hard minimum and not an exponential or polynomial tail.\n",
    "\n",
    "To do this we could take bootstrap samples of the sample, get the maxima, and fit those to the Weibull. More efficiently, we could weight the smallest values based on the order from smallest, with the weighting based on the expected frequency in a bootstrap sample.\n",
    "\n",
    "Unfortunately scipy doesn't allow distribution fitting with weighted samples. So either I have to hack that in, or find a different library.\n"
   ]
  },
  {
   "cell_type": "markdown",
   "id": "armed-trust",
   "metadata": {},
   "source": [
    "First, let's look at the Weibull distribution I'll be fitting to."
   ]
  },
  {
   "cell_type": "code",
   "execution_count": 216,
   "id": "noble-scenario",
   "metadata": {},
   "outputs": [
    {
     "name": "stderr",
     "output_type": "stream",
     "text": [
      "/Users/jackbennetto/anaconda3/envs/py39/lib/python3.9/site-packages/scipy/stats/_continuous_distns.py:2051: RuntimeWarning: divide by zero encountered in power\n",
      "  return c*pow(x, c-1)*np.exp(-pow(x, c))\n"
     ]
    },
    {
     "data": {
      "image/png": "[encoded data removed]",
      "text/plain": [
       "<Figure size 720x360 with 1 Axes>"
      ]
     },
     "metadata": {
      "needs_background": "light"
     },
     "output_type": "display_data"
    }
   ],
   "source": [
    "fig, ax = plt.subplots(figsize=(10, 5))\n",
    "xpts = np.linspace(0, 2, 100)\n",
    "for c in np.arange(0.5, 4, 0.5):\n",
    "    ax.plot(xpts, stats.weibull_min(c).pdf(xpts), label=f'c={c}')\n",
    "ax.set_ylabel('pdf')\n",
    "ax.set_title('Weibull distribution')\n",
    "ax.legend();"
   ]
  },
  {
   "cell_type": "markdown",
   "id": "interior-longer",
   "metadata": {},
   "source": [
    "Let's zoom in a bit for values of `c` near 1."
   ]
  },
  {
   "cell_type": "code",
   "execution_count": 391,
   "id": "vocational-bookmark",
   "metadata": {},
   "outputs": [
    {
     "name": "stderr",
     "output_type": "stream",
     "text": [
      "/Users/jackbennetto/anaconda3/envs/py39/lib/python3.9/site-packages/scipy/stats/_continuous_distns.py:2051: RuntimeWarning: divide by zero encountered in power\n",
      "  return c*pow(x, c-1)*np.exp(-pow(x, c))\n",
      "/Users/jackbennetto/anaconda3/envs/py39/lib/python3.9/site-packages/scipy/stats/_continuous_distns.py:2051: RuntimeWarning: divide by zero encountered in power\n",
      "  return c*pow(x, c-1)*np.exp(-pow(x, c))\n",
      "/Users/jackbennetto/anaconda3/envs/py39/lib/python3.9/site-packages/scipy/stats/_continuous_distns.py:2051: RuntimeWarning: divide by zero encountered in power\n",
      "  return c*pow(x, c-1)*np.exp(-pow(x, c))\n",
      "/Users/jackbennetto/anaconda3/envs/py39/lib/python3.9/site-packages/scipy/stats/_continuous_distns.py:2051: RuntimeWarning: divide by zero encountered in power\n",
      "  return c*pow(x, c-1)*np.exp(-pow(x, c))\n"
     ]
    },
    {
     "data": {
      "image/png": "[encoded data removed]",
      "text/plain": [
       "<Figure size 720x360 with 1 Axes>"
      ]
     },
     "metadata": {
      "needs_background": "light"
     },
     "output_type": "display_data"
    }
   ],
   "source": [
    "fig, ax = plt.subplots(figsize=(10, 5))\n",
    "xpts = np.linspace(0, 0.2, 100)\n",
    "for c in np.arange(0.9, 1.1, 0.025):\n",
    "    ax.plot(xpts, stats.weibull_min(c).pdf(xpts), label=f'c={c:.3f}')\n",
    "ax.set_ylabel('pdf')\n",
    "ax.set_title('Weibull distribution')\n",
    "ax.legend(loc='upper right');"
   ]
  },
  {
   "cell_type": "markdown",
   "id": "negative-supplier",
   "metadata": {},
   "source": [
    "### Curve fitting\n",
    "\n",
    "I'm playing around with `scipy.optimize` to try to fit a curve.\n",
    "\n",
    "First, try something I understand."
   ]
  },
  {
   "cell_type": "code",
   "execution_count": 183,
   "id": "virtual-patio",
   "metadata": {},
   "outputs": [],
   "source": [
    "def normal_log_likelihood(params, xs):\n",
    "    dist = stats.norm(params[0], params[1])\n",
    "    ll = 0\n",
    "    for x in xs:\n",
    "        ll -= dist.logpdf(x)\n",
    "    return ll"
   ]
  },
  {
   "cell_type": "code",
   "execution_count": 244,
   "id": "immediate-library",
   "metadata": {},
   "outputs": [
    {
     "data": {
      "text/plain": [
       "array([2.57142804, 2.11640875])"
      ]
     },
     "execution_count": 244,
     "metadata": {},
     "output_type": "execute_result"
    }
   ],
   "source": [
    "xs = [1, 2.1, 3.2, 0.5, 3.5, 0.7, 7]\n",
    "result = optimize.minimize(normal_log_likelihood,\n",
    "                           x0=[0, 1],\n",
    "                           args=xs)\n",
    "result.x"
   ]
  },
  {
   "cell_type": "code",
   "execution_count": 245,
   "id": "accredited-clearance",
   "metadata": {},
   "outputs": [
    {
     "data": {
      "text/plain": [
       "(2.5714285714285716, 2.1164082010494547)"
      ]
     },
     "execution_count": 245,
     "metadata": {},
     "output_type": "execute_result"
    }
   ],
   "source": [
    "np.mean(xs), np.std(xs)"
   ]
  },
  {
   "cell_type": "markdown",
   "id": "distinct-minute",
   "metadata": {},
   "source": [
    "So that worked."
   ]
  },
  {
   "cell_type": "code",
   "execution_count": 251,
   "id": "strategic-discretion",
   "metadata": {},
   "outputs": [],
   "source": [
    "def weibull_log_likelihood(params, xs):\n",
    "    dist = stats.weibull_min(params[0], 0, params[1])\n",
    "    return -sum(dist.logpdf(x) for x in xs)"
   ]
  },
  {
   "cell_type": "code",
   "execution_count": 252,
   "id": "opposed-detail",
   "metadata": {},
   "outputs": [
    {
     "data": {
      "text/plain": [
       "      fun: 13.346987404179835\n",
       " hess_inv: array([[0.13340193, 0.09903122],\n",
       "       [0.09903122, 0.73964248]])\n",
       "      jac: array([2.38418579e-07, 1.19209290e-06])\n",
       "  message: 'Optimization terminated successfully.'\n",
       "     nfev: 36\n",
       "      nit: 10\n",
       "     njev: 12\n",
       "   status: 0\n",
       "  success: True\n",
       "        x: array([1.25183098, 2.77385152])"
      ]
     },
     "execution_count": 252,
     "metadata": {},
     "output_type": "execute_result"
    }
   ],
   "source": [
    "result = optimize.minimize(weibull_log_likelihood,\n",
    "                           x0=[1, 1],\n",
    "                           args=(xs,))\n",
    "result"
   ]
  },
  {
   "cell_type": "code",
   "execution_count": 253,
   "id": "preceding-representative",
   "metadata": {},
   "outputs": [
    {
     "data": {
      "image/png": "[encoded data removed]",
      "text/plain": [
       "<Figure size 720x360 with 1 Axes>"
      ]
     },
     "metadata": {
      "needs_background": "light"
     },
     "output_type": "display_data"
    }
   ],
   "source": [
    "xpts = np.linspace(0, np.max(xs)*1.2, 200)\n",
    "\n",
    "fig, ax = plt.subplots(figsize=(10, 5))\n",
    "ax.plot(xpts,\n",
    "        stats.weibull_min(result.x[0], 0, result.x[1]).pdf(xpts))\n",
    "for x in xs:\n",
    "    ax.axvline(x, color='k', lw=0.5)"
   ]
  },
  {
   "cell_type": "markdown",
   "id": "robust-tracker",
   "metadata": {},
   "source": [
    "Okay, now we try this for real."
   ]
  },
  {
   "cell_type": "code",
   "execution_count": 255,
   "id": "painful-indian",
   "metadata": {},
   "outputs": [],
   "source": [
    "def weibull_weighted_log_likelihood(params, xs, weights):\n",
    "    dist = stats.weibull_min(params[0], 0, params[1])\n",
    "    return -sum(weight * dist.logpdf(x)\n",
    "                for x, weight\n",
    "                in zip(xs, weights))"
   ]
  },
  {
   "cell_type": "code",
   "execution_count": 320,
   "id": "korean-intellectual",
   "metadata": {},
   "outputs": [],
   "source": [
    "def weibull_fit(xs, weights):\n",
    "    result = optimize.minimize(weibull_weighted_log_likelihood,\n",
    "                               x0=[1, 1],\n",
    "                               args=(xs, weights))\n",
    "    print(result)\n",
    "    return result.x   "
   ]
  },
  {
   "cell_type": "code",
   "execution_count": 321,
   "id": "attractive-audio",
   "metadata": {},
   "outputs": [
    {
     "name": "stdout",
     "output_type": "stream",
     "text": [
      "      fun: 10.725694217805843\n",
      " hess_inv: array([[0.2125122 , 0.06831118],\n",
      "       [0.06831118, 0.17768549]])\n",
      "      jac: array([ 7.15255737e-07, -1.43051147e-06])\n",
      "  message: 'Optimization terminated successfully.'\n",
      "     nfev: 33\n",
      "      nit: 9\n",
      "     njev: 11\n",
      "   status: 0\n",
      "  success: True\n",
      "        x: array([1.76004839, 1.98642691])\n"
     ]
    },
    {
     "data": {
      "text/plain": [
       "array([1.76004839, 1.98642691])"
      ]
     },
     "execution_count": 321,
     "metadata": {},
     "output_type": "execute_result"
    }
   ],
   "source": [
    "weibull_fit([1,2,3,4],\n",
    "            [5,1,1,1])"
   ]
  },
  {
   "cell_type": "markdown",
   "id": "generic-factory",
   "metadata": {},
   "source": [
    "Now try the actual idea. Here we pass in a bunch of p-values and do extreme-value fit (assuming a Weibull distribution with a minimum at 0 since we know that must be true).\n",
    "\n",
    "The extreme-value theorem says that the minimums of a bunch of samples fits to an extreme value distribution. Since we just have one sample, we could simulate that be sub-sampling. Or we could just weight the values based on the probability they would be the smallest value of a subsample. We use a `fraction` parameter as the probability any given sample will be included in the subsample.\n"
   ]
  },
  {
   "cell_type": "code",
   "execution_count": 335,
   "id": "trying-matrix",
   "metadata": {},
   "outputs": [],
   "source": [
    "def ev_fit(xs, fraction, n=100):\n",
    "    xs = np.sort(xs)[:n] * 1000\n",
    "    weights = (1 - fraction) ** np.arange(n)\n",
    "    #print(xs, weights)\n",
    "    return weibull_fit(xs, weights)"
   ]
  },
  {
   "cell_type": "code",
   "execution_count": 381,
   "id": "religious-outside",
   "metadata": {},
   "outputs": [],
   "source": [
    "xs = stats.uniform(0, 1).rvs(1000000)"
   ]
  },
  {
   "cell_type": "code",
   "execution_count": 385,
   "id": "wrapped-murder",
   "metadata": {},
   "outputs": [
    {
     "name": "stdout",
     "output_type": "stream",
     "text": [
      "      fun: 990.05886306689\n",
      " hess_inv: array([[ 0.00026328, -0.00024407],\n",
      "       [-0.00024407,  0.00049445]])\n",
      "      jac: array([ 6.10351562e-05, -7.62939453e-06])\n",
      "  message: 'Desired error not necessarily achieved due to precision loss.'\n",
      "     nfev: 115\n",
      "      nit: 6\n",
      "     njev: 35\n",
      "   status: 2\n",
      "  success: False\n",
      "        x: array([1.04798724, 1.01688526])\n"
     ]
    },
    {
     "data": {
      "text/plain": [
       "array([1.04798724, 1.01688526])"
      ]
     },
     "execution_count": 385,
     "metadata": {},
     "output_type": "execute_result"
    }
   ],
   "source": [
    "ev_fit(xs, 0.001, 5000)"
   ]
  },
  {
   "cell_type": "code",
   "execution_count": 325,
   "id": "suburban-blackjack",
   "metadata": {},
   "outputs": [
    {
     "name": "stdout",
     "output_type": "stream",
     "text": [
      "      fun: 3.1845516547128785\n",
      " hess_inv: array([[0.1439285 , 0.04190917],\n",
      "       [0.04190917, 0.09387472]])\n",
      "      jac: array([ 5.06639481e-07, -9.53674316e-07])\n",
      "  message: 'Optimization terminated successfully.'\n",
      "     nfev: 27\n",
      "      nit: 5\n",
      "     njev: 9\n",
      "   status: 0\n",
      "  success: True\n",
      "        x: array([1.12870789, 0.73959008])\n"
     ]
    },
    {
     "data": {
      "text/plain": [
       "array([1.12870789, 0.73959008])"
      ]
     },
     "execution_count": 325,
     "metadata": {},
     "output_type": "execute_result"
    }
   ],
   "source": [
    "weibull_fit([1.9526929, 0.17408832, 0.2352351, 0.32896892, 0.8291631 ],\n",
    "            [1., 1, 1, 1, 1])"
   ]
  },
  {
   "cell_type": "code",
   "execution_count": 384,
   "id": "failing-sympathy",
   "metadata": {},
   "outputs": [
    {
     "data": {
      "text/plain": [
       "0.006721111959865588"
      ]
     },
     "execution_count": 384,
     "metadata": {},
     "output_type": "execute_result"
    }
   ],
   "source": [
    "(1-.001)** 5000"
   ]
  },
  {
   "cell_type": "code",
   "execution_count": null,
   "id": "generic-pencil",
   "metadata": {},
   "outputs": [],
   "source": []
  }
 ],
 "metadata": {
  "kernelspec": {
   "display_name": "Python 3",
   "language": "python",
   "name": "python3"
  },
  "language_info": {
   "codemirror_mode": {
    "name": "ipython",
    "version": 3
   },
   "file_extension": ".py",
   "mimetype": "text/x-python",
   "name": "python",
   "nbconvert_exporter": "python",
   "pygments_lexer": "ipython3",
   "version": "3.7.7"
  }
 },
 "nbformat": 4,
 "nbformat_minor": 5
}
